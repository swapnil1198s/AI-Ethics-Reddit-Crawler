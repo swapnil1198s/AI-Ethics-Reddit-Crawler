{
 "cells": [
  {
   "cell_type": "code",
   "execution_count": 1,
   "id": "00377c77",
   "metadata": {},
   "outputs": [],
   "source": [
    "import pandas as pd"
   ]
  },
  {
   "cell_type": "code",
   "execution_count": 2,
   "id": "b217b34c",
   "metadata": {},
   "outputs": [],
   "source": [
    "#root = '/Users/swapnilsrivastava/Documents/AI_Ethics_Research/' #Folder where the files are stored\n",
    "node_metrics_file = 'AIETHICS_LARGESAMPLENetwork_data_node_metrics.csv' #Metrics for each node(author)\n",
    "coded_data_file = 'Final_coded_dataset_largesample.csv' #Tematically coded data\n",
    "\n",
    "node_data = pd.read_csv(node_metrics_file)\n",
    "coded_data = pd.read_csv(coded_data_file)"
   ]
  },
  {
   "cell_type": "code",
   "execution_count": 3,
   "id": "6194b09d",
   "metadata": {},
   "outputs": [
    {
     "data": {
      "text/html": [
       "<div>\n",
       "<style scoped>\n",
       "    .dataframe tbody tr th:only-of-type {\n",
       "        vertical-align: middle;\n",
       "    }\n",
       "\n",
       "    .dataframe tbody tr th {\n",
       "        vertical-align: top;\n",
       "    }\n",
       "\n",
       "    .dataframe thead th {\n",
       "        text-align: right;\n",
       "    }\n",
       "</style>\n",
       "<table border=\"1\" class=\"dataframe\">\n",
       "  <thead>\n",
       "    <tr style=\"text-align: right;\">\n",
       "      <th></th>\n",
       "      <th>Id</th>\n",
       "      <th>Label</th>\n",
       "      <th>indegree</th>\n",
       "      <th>outdegree</th>\n",
       "      <th>Degree</th>\n",
       "      <th>weighted indegree</th>\n",
       "      <th>weighted outdegree</th>\n",
       "      <th>Weighted Degree</th>\n",
       "      <th>Eccentricity</th>\n",
       "      <th>closnesscentrality</th>\n",
       "      <th>...</th>\n",
       "      <th>betweenesscentrality</th>\n",
       "      <th>Authority</th>\n",
       "      <th>Hub</th>\n",
       "      <th>pageranks</th>\n",
       "      <th>componentnumber</th>\n",
       "      <th>strongcompnum</th>\n",
       "      <th>modularity_class</th>\n",
       "      <th>stat_inf_class</th>\n",
       "      <th>clustering</th>\n",
       "      <th>eigencentrality</th>\n",
       "    </tr>\n",
       "  </thead>\n",
       "  <tbody>\n",
       "    <tr>\n",
       "      <th>0</th>\n",
       "      <td>AI-wonderer</td>\n",
       "      <td>NaN</td>\n",
       "      <td>0</td>\n",
       "      <td>1</td>\n",
       "      <td>1</td>\n",
       "      <td>0</td>\n",
       "      <td>1</td>\n",
       "      <td>1</td>\n",
       "      <td>2</td>\n",
       "      <td>0.666667</td>\n",
       "      <td>...</td>\n",
       "      <td>0.000000</td>\n",
       "      <td>0.0</td>\n",
       "      <td>0.0</td>\n",
       "      <td>0.001287</td>\n",
       "      <td>0</td>\n",
       "      <td>2</td>\n",
       "      <td>0</td>\n",
       "      <td>0</td>\n",
       "      <td>0.0</td>\n",
       "      <td>0.000000</td>\n",
       "    </tr>\n",
       "    <tr>\n",
       "      <th>1</th>\n",
       "      <td>Imaginary_Coffee_511</td>\n",
       "      <td>NaN</td>\n",
       "      <td>1</td>\n",
       "      <td>1</td>\n",
       "      <td>2</td>\n",
       "      <td>1</td>\n",
       "      <td>1</td>\n",
       "      <td>2</td>\n",
       "      <td>1</td>\n",
       "      <td>1.000000</td>\n",
       "      <td>...</td>\n",
       "      <td>0.000025</td>\n",
       "      <td>0.0</td>\n",
       "      <td>0.0</td>\n",
       "      <td>0.002380</td>\n",
       "      <td>0</td>\n",
       "      <td>1</td>\n",
       "      <td>0</td>\n",
       "      <td>0</td>\n",
       "      <td>0.0</td>\n",
       "      <td>0.002099</td>\n",
       "    </tr>\n",
       "    <tr>\n",
       "      <th>2</th>\n",
       "      <td>colel1</td>\n",
       "      <td>NaN</td>\n",
       "      <td>1</td>\n",
       "      <td>1</td>\n",
       "      <td>2</td>\n",
       "      <td>1</td>\n",
       "      <td>1</td>\n",
       "      <td>2</td>\n",
       "      <td>1</td>\n",
       "      <td>1.000000</td>\n",
       "      <td>...</td>\n",
       "      <td>0.000000</td>\n",
       "      <td>0.0</td>\n",
       "      <td>0.0</td>\n",
       "      <td>0.008575</td>\n",
       "      <td>1</td>\n",
       "      <td>3</td>\n",
       "      <td>1</td>\n",
       "      <td>1</td>\n",
       "      <td>0.0</td>\n",
       "      <td>0.004005</td>\n",
       "    </tr>\n",
       "    <tr>\n",
       "      <th>3</th>\n",
       "      <td>ethicalbau</td>\n",
       "      <td>NaN</td>\n",
       "      <td>1</td>\n",
       "      <td>1</td>\n",
       "      <td>2</td>\n",
       "      <td>1</td>\n",
       "      <td>1</td>\n",
       "      <td>2</td>\n",
       "      <td>1</td>\n",
       "      <td>1.000000</td>\n",
       "      <td>...</td>\n",
       "      <td>0.000000</td>\n",
       "      <td>0.0</td>\n",
       "      <td>0.0</td>\n",
       "      <td>0.008575</td>\n",
       "      <td>1</td>\n",
       "      <td>3</td>\n",
       "      <td>1</td>\n",
       "      <td>1</td>\n",
       "      <td>0.0</td>\n",
       "      <td>0.004005</td>\n",
       "    </tr>\n",
       "    <tr>\n",
       "      <th>4</th>\n",
       "      <td>colesupreme</td>\n",
       "      <td>NaN</td>\n",
       "      <td>1</td>\n",
       "      <td>1</td>\n",
       "      <td>2</td>\n",
       "      <td>1</td>\n",
       "      <td>1</td>\n",
       "      <td>2</td>\n",
       "      <td>1</td>\n",
       "      <td>1.000000</td>\n",
       "      <td>...</td>\n",
       "      <td>0.000000</td>\n",
       "      <td>0.0</td>\n",
       "      <td>0.0</td>\n",
       "      <td>0.021353</td>\n",
       "      <td>2</td>\n",
       "      <td>4</td>\n",
       "      <td>14</td>\n",
       "      <td>2</td>\n",
       "      <td>0.0</td>\n",
       "      <td>0.006151</td>\n",
       "    </tr>\n",
       "  </tbody>\n",
       "</table>\n",
       "<p>5 rows × 21 columns</p>\n",
       "</div>"
      ],
      "text/plain": [
       "                     Id  Label  indegree  outdegree  Degree   \n",
       "0           AI-wonderer    NaN         0          1       1  \\\n",
       "1  Imaginary_Coffee_511    NaN         1          1       2   \n",
       "2                colel1    NaN         1          1       2   \n",
       "3            ethicalbau    NaN         1          1       2   \n",
       "4           colesupreme    NaN         1          1       2   \n",
       "\n",
       "   weighted indegree  weighted outdegree  Weighted Degree  Eccentricity   \n",
       "0                  0                   1                1             2  \\\n",
       "1                  1                   1                2             1   \n",
       "2                  1                   1                2             1   \n",
       "3                  1                   1                2             1   \n",
       "4                  1                   1                2             1   \n",
       "\n",
       "   closnesscentrality  ...  betweenesscentrality  Authority  Hub  pageranks   \n",
       "0            0.666667  ...              0.000000        0.0  0.0   0.001287  \\\n",
       "1            1.000000  ...              0.000025        0.0  0.0   0.002380   \n",
       "2            1.000000  ...              0.000000        0.0  0.0   0.008575   \n",
       "3            1.000000  ...              0.000000        0.0  0.0   0.008575   \n",
       "4            1.000000  ...              0.000000        0.0  0.0   0.021353   \n",
       "\n",
       "   componentnumber  strongcompnum  modularity_class  stat_inf_class   \n",
       "0                0              2                 0               0  \\\n",
       "1                0              1                 0               0   \n",
       "2                1              3                 1               1   \n",
       "3                1              3                 1               1   \n",
       "4                2              4                14               2   \n",
       "\n",
       "   clustering  eigencentrality  \n",
       "0         0.0         0.000000  \n",
       "1         0.0         0.002099  \n",
       "2         0.0         0.004005  \n",
       "3         0.0         0.004005  \n",
       "4         0.0         0.006151  \n",
       "\n",
       "[5 rows x 21 columns]"
      ]
     },
     "execution_count": 3,
     "metadata": {},
     "output_type": "execute_result"
    }
   ],
   "source": [
    "node_data = pd.DataFrame(node_data)\n",
    "node_data.head()"
   ]
  },
  {
   "cell_type": "code",
   "execution_count": 4,
   "id": "585a898d",
   "metadata": {},
   "outputs": [
    {
     "data": {
      "text/html": [
       "<div>\n",
       "<style scoped>\n",
       "    .dataframe tbody tr th:only-of-type {\n",
       "        vertical-align: middle;\n",
       "    }\n",
       "\n",
       "    .dataframe tbody tr th {\n",
       "        vertical-align: top;\n",
       "    }\n",
       "\n",
       "    .dataframe thead th {\n",
       "        text-align: right;\n",
       "    }\n",
       "</style>\n",
       "<table border=\"1\" class=\"dataframe\">\n",
       "  <thead>\n",
       "    <tr style=\"text-align: right;\">\n",
       "      <th></th>\n",
       "      <th>Unnamed: 0</th>\n",
       "      <th>author</th>\n",
       "      <th>created_utc</th>\n",
       "      <th>id</th>\n",
       "      <th>score</th>\n",
       "      <th>selftext</th>\n",
       "      <th>sub_id</th>\n",
       "      <th>Topic</th>\n",
       "      <th>Label</th>\n",
       "    </tr>\n",
       "  </thead>\n",
       "  <tbody>\n",
       "    <tr>\n",
       "      <th>0</th>\n",
       "      <td>0</td>\n",
       "      <td>UmamiSalami</td>\n",
       "      <td>11/11/2016 18:42</td>\n",
       "      <td>d9w5yjl</td>\n",
       "      <td>3.0</td>\n",
       "      <td>Assuming this is the partnership on AI that wa...</td>\n",
       "      <td>5cfurk</td>\n",
       "      <td>0.0</td>\n",
       "      <td>Influence of AI on society</td>\n",
       "    </tr>\n",
       "    <tr>\n",
       "      <th>1</th>\n",
       "      <td>1</td>\n",
       "      <td>CyberByte</td>\n",
       "      <td>11/12/2016 10:54</td>\n",
       "      <td>d9x21a2</td>\n",
       "      <td>2.0</td>\n",
       "      <td>Judging by the companies involved, this seems ...</td>\n",
       "      <td>5cfurk</td>\n",
       "      <td>0.0</td>\n",
       "      <td>Resource sharing</td>\n",
       "    </tr>\n",
       "    <tr>\n",
       "      <th>2</th>\n",
       "      <td>2</td>\n",
       "      <td>TechnocratBits</td>\n",
       "      <td>11/17/2016 0:39</td>\n",
       "      <td>da3jmbo</td>\n",
       "      <td>1.0</td>\n",
       "      <td>The Partnership on AI shares the following ten...</td>\n",
       "      <td>5cfurk</td>\n",
       "      <td>0.0</td>\n",
       "      <td>Perspectives on ethical AI implementation and ...</td>\n",
       "    </tr>\n",
       "    <tr>\n",
       "      <th>3</th>\n",
       "      <td>3</td>\n",
       "      <td>Wolfhoof</td>\n",
       "      <td>10/2/2016 14:00</td>\n",
       "      <td>d8ar5bn</td>\n",
       "      <td>1.0</td>\n",
       "      <td>I see no upside to AI. Everyone, including fic...</td>\n",
       "      <td>55hg8p</td>\n",
       "      <td>0.0</td>\n",
       "      <td>Critical Probing of ethical considerations</td>\n",
       "    </tr>\n",
       "    <tr>\n",
       "      <th>4</th>\n",
       "      <td>4</td>\n",
       "      <td>skyfishgoo</td>\n",
       "      <td>10/3/2016 2:49</td>\n",
       "      <td>d8bnhs7</td>\n",
       "      <td>1.0</td>\n",
       "      <td>&gt; AIs will only be able to follow the initial ...</td>\n",
       "      <td>55hg8p</td>\n",
       "      <td>0.0</td>\n",
       "      <td>Perspectives on ethical AI implementation and ...</td>\n",
       "    </tr>\n",
       "  </tbody>\n",
       "</table>\n",
       "</div>"
      ],
      "text/plain": [
       "   Unnamed: 0          author       created_utc       id  score  \\\n",
       "0           0     UmamiSalami  11/11/2016 18:42  d9w5yjl    3.0   \n",
       "1           1       CyberByte  11/12/2016 10:54  d9x21a2    2.0   \n",
       "2           2  TechnocratBits   11/17/2016 0:39  da3jmbo    1.0   \n",
       "3           3        Wolfhoof   10/2/2016 14:00  d8ar5bn    1.0   \n",
       "4           4      skyfishgoo    10/3/2016 2:49  d8bnhs7    1.0   \n",
       "\n",
       "                                            selftext  sub_id  Topic  \\\n",
       "0  Assuming this is the partnership on AI that wa...  5cfurk    0.0   \n",
       "1  Judging by the companies involved, this seems ...  5cfurk    0.0   \n",
       "2  The Partnership on AI shares the following ten...  5cfurk    0.0   \n",
       "3  I see no upside to AI. Everyone, including fic...  55hg8p    0.0   \n",
       "4  > AIs will only be able to follow the initial ...  55hg8p    0.0   \n",
       "\n",
       "                                               Label  \n",
       "0                         Influence of AI on society  \n",
       "1                                   Resource sharing  \n",
       "2  Perspectives on ethical AI implementation and ...  \n",
       "3         Critical Probing of ethical considerations  \n",
       "4  Perspectives on ethical AI implementation and ...  "
      ]
     },
     "execution_count": 4,
     "metadata": {},
     "output_type": "execute_result"
    }
   ],
   "source": [
    "coded_data= pd.DataFrame(coded_data)\n",
    "coded_data.head()"
   ]
  },
  {
   "cell_type": "code",
   "execution_count": 8,
   "id": "ecec11ed",
   "metadata": {},
   "outputs": [
    {
     "data": {
      "text/plain": [
       "5"
      ]
     },
     "execution_count": 8,
     "metadata": {},
     "output_type": "execute_result"
    }
   ],
   "source": [
    "coded_data.Label.nunique()"
   ]
  },
  {
   "cell_type": "code",
   "execution_count": 6,
   "id": "347dc811",
   "metadata": {},
   "outputs": [],
   "source": [
    "coded_data[\"Label\"] = coded_data[\"Label\"].str.replace('Community building', 'Community Building')\n",
    "coded_data[\"Label\"] = coded_data[\"Label\"].str.replace('Critical Probing of ethical considerations', 'Critical Probing')\n",
    "coded_data[\"Label\"] = coded_data[\"Label\"].str.replace('Resource sharing', 'Resource Sharing')\n",
    "coded_data['Label'] = coded_data['Label'].str.replace('Influence of AI on society', 'Influence')\n",
    "coded_data['Label'] = coded_data['Label'].str.replace('Influence of AI on Society', 'Influence')\n",
    "coded_data['Label'] = coded_data['Label'].str.replace('Perspectives on ethical AI implementation and decision-making', 'Perspectives')"
   ]
  },
  {
   "cell_type": "code",
   "execution_count": 84,
   "id": "5134463b",
   "metadata": {},
   "outputs": [
    {
     "name": "stdout",
     "output_type": "stream",
     "text": [
      "--------------------Based on betweenesscentrality--------------------\n",
      "                      Id  betweenesscentrality\n",
      "9            UmamiSalami              0.132069\n",
      "22            skyfishgoo              0.083352\n",
      "138    FormulaicResponse              0.033881\n",
      "30              rand3289              0.029353\n",
      "89          VorpalAuroch              0.024696\n",
      "119            CyberByte              0.018147\n",
      "92               yelow13              0.016142\n",
      "48              smackson              0.013621\n",
      "47             UmamiTofu              0.013419\n",
      "29            ha7mster-x              0.011493\n",
      "28               Chobeat              0.010682\n",
      "137            Tseyipfai              0.009925\n",
      "86               Lena_Cl              0.009801\n",
      "20              funspace              0.009378\n",
      "71         ahumanlikeyou              0.008800\n",
      "99         PantsGrenades              0.008731\n",
      "24          green_meklar              0.008626\n",
      "26               ribblle              0.008228\n",
      "17                liedra              0.007935\n",
      "70       affecting_layer              0.007537\n",
      "176          matigekunst              0.006816\n",
      "36   incaseofbanposthere              0.006169\n",
      "21              PBJLNGSN              0.006144\n",
      "7                   thbb              0.005835\n",
      "64              Wolfhoof              0.005278\n"
     ]
    }
   ],
   "source": [
    "###########Sorting the node_data###########\n",
    "\n",
    "#The top 25 suthors based on the betweenesscentrality metric\n",
    "top_25_nodes = node_data.nlargest(25, 'betweenesscentrality')[['Id','betweenesscentrality']]\n",
    "\n",
    "print('--------------------Based on betweenesscentrality--------------------')\n",
    "print(top_25_nodes)"
   ]
  },
  {
   "cell_type": "code",
   "execution_count": 36,
   "id": "7254295e",
   "metadata": {},
   "outputs": [
    {
     "name": "stdout",
     "output_type": "stream",
     "text": [
      "--------------------Based on Degree--------------------\n",
      "                       Id  Degree\n",
      "9             UmamiSalami      62\n",
      "22             skyfishgoo      23\n",
      "30               rand3289      14\n",
      "99          PantsGrenades      13\n",
      "47              UmamiTofu      11\n",
      "119             CyberByte      11\n",
      "89           VorpalAuroch      10\n",
      "138     FormulaicResponse       9\n",
      "92                yelow13       8\n",
      "17                 liedra       7\n",
      "24           green_meklar       7\n",
      "26                ribblle       7\n",
      "28                Chobeat       7\n",
      "36    incaseofbanposthere       7\n",
      "137             Tseyipfai       7\n",
      "7                    thbb       6\n",
      "21               PBJLNGSN       6\n",
      "86                Lena_Cl       6\n",
      "96             clanleader       6\n",
      "11        agustin-vaquero       5\n",
      "14   PrettyMuchJudgeFudge       5\n",
      "20               funspace       5\n",
      "48               smackson       5\n",
      "64               Wolfhoof       5\n",
      "68          Anti-Marxist-       5\n"
     ]
    }
   ],
   "source": [
    "###########Sorting the node_data###########\n",
    "\n",
    "#The top 25 suthors based on the Degree metric\n",
    "top_25_nodes = node_data.nlargest(25, 'Degree')[['Id','Degree']]\n",
    "\n",
    "print('--------------------Based on Degree--------------------')\n",
    "print(top_25_nodes)"
   ]
  },
  {
   "cell_type": "code",
   "execution_count": 99,
   "id": "aaf89782",
   "metadata": {},
   "outputs": [
    {
     "name": "stdout",
     "output_type": "stream",
     "text": [
      "--------------------Based on harmonicclosnesscentrality--------------------\n",
      "                       Id  harmonicclosnesscentrality\n",
      "1    Imaginary_Coffee_511                         1.0\n",
      "2                  colel1                         1.0\n",
      "3              ethicalbau                         1.0\n",
      "4             colesupreme                         1.0\n",
      "5         BeatriceCarraro                         1.0\n",
      "10    ebony_and_ivory1011                         1.0\n",
      "11        agustin-vaquero                         1.0\n",
      "14   PrettyMuchJudgeFudge                         1.0\n",
      "17                 liedra                         1.0\n",
      "18      fuck_your_diploma                         1.0\n",
      "34   impermanentThrowaway                         1.0\n",
      "41           isincredible                         1.0\n",
      "50         Unlik3lyTrader                         1.0\n",
      "56                zorfbee                         1.0\n",
      "57        Sparsh_Joshi_42                         1.0\n",
      "59   Legal-Interaction982                         1.0\n",
      "66     HeartbrokenFitNerd                         1.0\n",
      "68          Anti-Marxist-                         1.0\n",
      "74          begaterpillar                         1.0\n",
      "76               jennss18                         1.0\n",
      "78         jiminiminimini                         1.0\n",
      "81      reasonablefideist                         1.0\n",
      "103        qwertymanhurts                         1.0\n",
      "104          FlashMcSuave                         1.0\n",
      "105                kluvin                         1.0\n"
     ]
    }
   ],
   "source": [
    "###########Sorting the node_data###########\n",
    "\n",
    "#The top 25 suthors based on the harmonicclosnesscentrality metric\n",
    "closeness_data = node_data[(node_data['harmonicclosnesscentrality'] < 1) & (node_data['harmonicclosnesscentrality'] > 0)]\n",
    "top_25_nodes = node_data.nlargest(25, 'harmonicclosnesscentrality')[['Id','harmonicclosnesscentrality']]\n",
    "\n",
    "print('--------------------Based on harmonicclosnesscentrality--------------------')\n",
    "print(top_25_nodes)"
   ]
  },
  {
   "cell_type": "code",
   "execution_count": 51,
   "id": "009c3019",
   "metadata": {},
   "outputs": [
    {
     "data": {
      "text/plain": [
       "harmonicclosnesscentrality\n",
       "1.000000    47\n",
       "0.000000    35\n",
       "0.750000    10\n",
       "0.358991     9\n",
       "0.360823     9\n",
       "            ..\n",
       "0.222458     1\n",
       "0.596053     1\n",
       "0.404605     1\n",
       "0.368860     1\n",
       "0.293546     1\n",
       "Name: count, Length: 78, dtype: int64"
      ]
     },
     "execution_count": 51,
     "metadata": {},
     "output_type": "execute_result"
    }
   ],
   "source": [
    "node_data['harmonicclosnesscentrality'].value_counts()"
   ]
  },
  {
   "cell_type": "code",
   "execution_count": 105,
   "id": "56b15779",
   "metadata": {},
   "outputs": [
    {
     "name": "stdout",
     "output_type": "stream",
     "text": [
      "--------------------Based on pageranks--------------------\n",
      "                       Id  pageranks\n",
      "9             UmamiSalami   0.074763\n",
      "22             skyfishgoo   0.030289\n",
      "30               rand3289   0.028901\n",
      "5         BeatriceCarraro   0.023624\n",
      "11        agustin-vaquero   0.021622\n",
      "4             colesupreme   0.021353\n",
      "10    ebony_and_ivory1011   0.019647\n",
      "132        MightyTreeFrog   0.015863\n",
      "111          looselyhuman   0.015704\n",
      "59   Legal-Interaction982   0.015317\n",
      "137             Tseyipfai   0.014973\n",
      "112  Research_for_mynovel   0.014632\n",
      "20               funspace   0.014459\n",
      "21               PBJLNGSN   0.012923\n",
      "89           VorpalAuroch   0.010974\n",
      "92                yelow13   0.010398\n",
      "86                Lena_Cl   0.010319\n",
      "17                 liedra   0.010134\n",
      "26                ribblle   0.010091\n",
      "131    ManuelRodriguez331   0.009890\n",
      "148           LexShrapnel   0.009690\n",
      "36    incaseofbanposthere   0.009348\n",
      "47              UmamiTofu   0.009222\n",
      "42   machineethicsthrowaw   0.009089\n",
      "138     FormulaicResponse   0.008903\n"
     ]
    }
   ],
   "source": [
    "###########Sorting the node_data###########\n",
    "\n",
    "#The top 25 suthors based on the pageranks metric\n",
    "top_25_nodes = node_data.nlargest(25, 'pageranks')[['Id','pageranks']]\n",
    "\n",
    "print('--------------------Based on pageranks--------------------')\n",
    "print(top_25_nodes)"
   ]
  },
  {
   "cell_type": "code",
   "execution_count": 106,
   "id": "ab1810e5",
   "metadata": {},
   "outputs": [],
   "source": [
    "theme_frequency_map = {}\n",
    "theme_frequency_map['Influence'] = 0\n",
    "theme_frequency_map['Resource Sharing'] = 0\n",
    "theme_frequency_map['Perspectives'] = 0\n",
    "theme_frequency_map['Critical Probing'] = 0\n",
    "theme_frequency_map['Community Building'] = 0"
   ]
  },
  {
   "cell_type": "code",
   "execution_count": 107,
   "id": "41f6afa0",
   "metadata": {},
   "outputs": [
    {
     "name": "stdout",
     "output_type": "stream",
     "text": [
      "{'UmamiSalami': {'Community Building', 'Critical Probing', 'Resource Sharing', 'Perspectives', 'Influence'}, 'skyfishgoo': {'Community Building', 'Critical Probing', 'Resource Sharing', 'Perspectives', 'Influence'}, 'rand3289': {'Resource Sharing'}, 'BeatriceCarraro': {'Influence', 'Resource Sharing'}, 'agustin-vaquero': {'Community Building', 'Resource Sharing'}, 'colesupreme': set(), 'ebony_and_ivory1011': {'Community Building'}, 'MightyTreeFrog': set(), 'looselyhuman': {'Community Building'}, 'Legal-Interaction982': set(), 'Tseyipfai': {'Resource Sharing'}, 'Research_for_mynovel': {'Critical Probing'}, 'funspace': {'Resource Sharing'}, 'PBJLNGSN': {'Community Building'}, 'VorpalAuroch': set(), 'yelow13': {'Critical Probing'}, 'Lena_Cl': {'Community Building'}, 'liedra': {'Resource Sharing'}, 'ribblle': set(), 'ManuelRodriguez331': set(), 'LexShrapnel': set(), 'incaseofbanposthere': set(), 'UmamiTofu': set(), 'machineethicsthrowaw': set(), 'FormulaicResponse': {'Perspectives'}}\n"
     ]
    }
   ],
   "source": [
    "#Author to theme mapping \n",
    "author_theme_map = {}\n",
    "for index, row in top_25_nodes.iterrows():\n",
    "    author_themes = []\n",
    "    x = coded_data[coded_data['author']==row['Id']]\n",
    "    for data in x['Label']:\n",
    "        theme_frequency_map[data] += 1 \n",
    "        author_themes.append(data)\n",
    "    author_themes_set = set(author_themes)\n",
    "    author_themes = author_themes_set\n",
    "    author_theme_map[row['Id']] = author_themes\n",
    "print(author_theme_map)"
   ]
  },
  {
   "cell_type": "code",
   "execution_count": 108,
   "id": "c9856626",
   "metadata": {},
   "outputs": [
    {
     "name": "stdout",
     "output_type": "stream",
     "text": [
      "{'Influence': 5, 'Resource Sharing': 15, 'Perspectives': 9, 'Critical Probing': 4, 'Community Building': 12}\n"
     ]
    }
   ],
   "source": [
    "print(theme_frequency_map)"
   ]
  },
  {
   "cell_type": "code",
   "execution_count": 109,
   "id": "b20c65c8",
   "metadata": {},
   "outputs": [
    {
     "data": {
      "text/html": [
       "<div>\n",
       "<style scoped>\n",
       "    .dataframe tbody tr th:only-of-type {\n",
       "        vertical-align: middle;\n",
       "    }\n",
       "\n",
       "    .dataframe tbody tr th {\n",
       "        vertical-align: top;\n",
       "    }\n",
       "\n",
       "    .dataframe thead th {\n",
       "        text-align: right;\n",
       "    }\n",
       "</style>\n",
       "<table border=\"1\" class=\"dataframe\">\n",
       "  <thead>\n",
       "    <tr style=\"text-align: right;\">\n",
       "      <th></th>\n",
       "      <th>Topic_Label</th>\n",
       "      <th>counts</th>\n",
       "    </tr>\n",
       "  </thead>\n",
       "  <tbody>\n",
       "    <tr>\n",
       "      <th>0</th>\n",
       "      <td>Influence</td>\n",
       "      <td>5</td>\n",
       "    </tr>\n",
       "    <tr>\n",
       "      <th>1</th>\n",
       "      <td>Resource Sharing</td>\n",
       "      <td>15</td>\n",
       "    </tr>\n",
       "    <tr>\n",
       "      <th>2</th>\n",
       "      <td>Perspectives</td>\n",
       "      <td>9</td>\n",
       "    </tr>\n",
       "    <tr>\n",
       "      <th>3</th>\n",
       "      <td>Critical Probing</td>\n",
       "      <td>4</td>\n",
       "    </tr>\n",
       "    <tr>\n",
       "      <th>4</th>\n",
       "      <td>Community Building</td>\n",
       "      <td>12</td>\n",
       "    </tr>\n",
       "  </tbody>\n",
       "</table>\n",
       "</div>"
      ],
      "text/plain": [
       "          Topic_Label  counts\n",
       "0           Influence       5\n",
       "1    Resource Sharing      15\n",
       "2        Perspectives       9\n",
       "3    Critical Probing       4\n",
       "4  Community Building      12"
      ]
     },
     "execution_count": 109,
     "metadata": {},
     "output_type": "execute_result"
    }
   ],
   "source": [
    "final = pd.Series(theme_frequency_map)\n",
    "final = final.to_frame().reset_index()\n",
    "final.columns = ['Topic_Label','counts']\n",
    "final"
   ]
  },
  {
   "cell_type": "code",
   "execution_count": 82,
   "id": "987d63e8",
   "metadata": {},
   "outputs": [
    {
     "data": {
      "text/html": [
       "<div>\n",
       "<style scoped>\n",
       "    .dataframe tbody tr th:only-of-type {\n",
       "        vertical-align: middle;\n",
       "    }\n",
       "\n",
       "    .dataframe tbody tr th {\n",
       "        vertical-align: top;\n",
       "    }\n",
       "\n",
       "    .dataframe thead th {\n",
       "        text-align: right;\n",
       "    }\n",
       "</style>\n",
       "<table border=\"1\" class=\"dataframe\">\n",
       "  <thead>\n",
       "    <tr style=\"text-align: right;\">\n",
       "      <th></th>\n",
       "      <th>Topic_Label</th>\n",
       "      <th>counts</th>\n",
       "    </tr>\n",
       "  </thead>\n",
       "  <tbody>\n",
       "    <tr>\n",
       "      <th>0</th>\n",
       "      <td>Influence</td>\n",
       "      <td>5</td>\n",
       "    </tr>\n",
       "    <tr>\n",
       "      <th>1</th>\n",
       "      <td>Resource Sharing</td>\n",
       "      <td>15</td>\n",
       "    </tr>\n",
       "    <tr>\n",
       "      <th>2</th>\n",
       "      <td>Perspectives</td>\n",
       "      <td>9</td>\n",
       "    </tr>\n",
       "    <tr>\n",
       "      <th>3</th>\n",
       "      <td>Critical Probing</td>\n",
       "      <td>4</td>\n",
       "    </tr>\n",
       "    <tr>\n",
       "      <th>4</th>\n",
       "      <td>Community Building</td>\n",
       "      <td>12</td>\n",
       "    </tr>\n",
       "  </tbody>\n",
       "</table>\n",
       "</div>"
      ],
      "text/plain": [
       "          Topic_Label  counts\n",
       "0           Influence       5\n",
       "1    Resource Sharing      15\n",
       "2        Perspectives       9\n",
       "3    Critical Probing       4\n",
       "4  Community Building      12"
      ]
     },
     "execution_count": 82,
     "metadata": {},
     "output_type": "execute_result"
    }
   ],
   "source": [
    "final"
   ]
  },
  {
   "cell_type": "code",
   "execution_count": 112,
   "id": "786818e2",
   "metadata": {},
   "outputs": [
    {
     "data": {
      "application/vnd.plotly.v1+json": {
       "config": {
        "plotlyServerURL": "https://plot.ly"
       },
       "data": [
        {
         "domain": {
          "x": [
           0,
           1
          ],
          "y": [
           0,
           1
          ]
         },
         "hovertemplate": "Topic_Label=%{label}<br>counts=%{value}<extra></extra>",
         "labels": [
          "Influence",
          "Resource Sharing",
          "Perspectives",
          "Critical Probing",
          "Community Building"
         ],
         "legendgroup": "",
         "name": "",
         "showlegend": true,
         "textinfo": "percent+label",
         "textposition": "inside",
         "type": "pie",
         "values": [
          5,
          15,
          9,
          4,
          12
         ]
        }
       ],
       "layout": {
        "legend": {
         "title": {
          "text": "<b>Content themes - PageRank<b>"
         },
         "tracegroupgap": 0,
         "x": 0.75,
         "xanchor": "left",
         "y": 0.9,
         "yanchor": "top"
        },
        "margin": {
         "t": 60
        },
        "template": {
         "data": {
          "bar": [
           {
            "error_x": {
             "color": "#2a3f5f"
            },
            "error_y": {
             "color": "#2a3f5f"
            },
            "marker": {
             "line": {
              "color": "#E5ECF6",
              "width": 0.5
             },
             "pattern": {
              "fillmode": "overlay",
              "size": 10,
              "solidity": 0.2
             }
            },
            "type": "bar"
           }
          ],
          "barpolar": [
           {
            "marker": {
             "line": {
              "color": "#E5ECF6",
              "width": 0.5
             },
             "pattern": {
              "fillmode": "overlay",
              "size": 10,
              "solidity": 0.2
             }
            },
            "type": "barpolar"
           }
          ],
          "carpet": [
           {
            "aaxis": {
             "endlinecolor": "#2a3f5f",
             "gridcolor": "white",
             "linecolor": "white",
             "minorgridcolor": "white",
             "startlinecolor": "#2a3f5f"
            },
            "baxis": {
             "endlinecolor": "#2a3f5f",
             "gridcolor": "white",
             "linecolor": "white",
             "minorgridcolor": "white",
             "startlinecolor": "#2a3f5f"
            },
            "type": "carpet"
           }
          ],
          "choropleth": [
           {
            "colorbar": {
             "outlinewidth": 0,
             "ticks": ""
            },
            "type": "choropleth"
           }
          ],
          "contour": [
           {
            "colorbar": {
             "outlinewidth": 0,
             "ticks": ""
            },
            "colorscale": [
             [
              0,
              "#0d0887"
             ],
             [
              0.1111111111111111,
              "#46039f"
             ],
             [
              0.2222222222222222,
              "#7201a8"
             ],
             [
              0.3333333333333333,
              "#9c179e"
             ],
             [
              0.4444444444444444,
              "#bd3786"
             ],
             [
              0.5555555555555556,
              "#d8576b"
             ],
             [
              0.6666666666666666,
              "#ed7953"
             ],
             [
              0.7777777777777778,
              "#fb9f3a"
             ],
             [
              0.8888888888888888,
              "#fdca26"
             ],
             [
              1,
              "#f0f921"
             ]
            ],
            "type": "contour"
           }
          ],
          "contourcarpet": [
           {
            "colorbar": {
             "outlinewidth": 0,
             "ticks": ""
            },
            "type": "contourcarpet"
           }
          ],
          "heatmap": [
           {
            "colorbar": {
             "outlinewidth": 0,
             "ticks": ""
            },
            "colorscale": [
             [
              0,
              "#0d0887"
             ],
             [
              0.1111111111111111,
              "#46039f"
             ],
             [
              0.2222222222222222,
              "#7201a8"
             ],
             [
              0.3333333333333333,
              "#9c179e"
             ],
             [
              0.4444444444444444,
              "#bd3786"
             ],
             [
              0.5555555555555556,
              "#d8576b"
             ],
             [
              0.6666666666666666,
              "#ed7953"
             ],
             [
              0.7777777777777778,
              "#fb9f3a"
             ],
             [
              0.8888888888888888,
              "#fdca26"
             ],
             [
              1,
              "#f0f921"
             ]
            ],
            "type": "heatmap"
           }
          ],
          "heatmapgl": [
           {
            "colorbar": {
             "outlinewidth": 0,
             "ticks": ""
            },
            "colorscale": [
             [
              0,
              "#0d0887"
             ],
             [
              0.1111111111111111,
              "#46039f"
             ],
             [
              0.2222222222222222,
              "#7201a8"
             ],
             [
              0.3333333333333333,
              "#9c179e"
             ],
             [
              0.4444444444444444,
              "#bd3786"
             ],
             [
              0.5555555555555556,
              "#d8576b"
             ],
             [
              0.6666666666666666,
              "#ed7953"
             ],
             [
              0.7777777777777778,
              "#fb9f3a"
             ],
             [
              0.8888888888888888,
              "#fdca26"
             ],
             [
              1,
              "#f0f921"
             ]
            ],
            "type": "heatmapgl"
           }
          ],
          "histogram": [
           {
            "marker": {
             "pattern": {
              "fillmode": "overlay",
              "size": 10,
              "solidity": 0.2
             }
            },
            "type": "histogram"
           }
          ],
          "histogram2d": [
           {
            "colorbar": {
             "outlinewidth": 0,
             "ticks": ""
            },
            "colorscale": [
             [
              0,
              "#0d0887"
             ],
             [
              0.1111111111111111,
              "#46039f"
             ],
             [
              0.2222222222222222,
              "#7201a8"
             ],
             [
              0.3333333333333333,
              "#9c179e"
             ],
             [
              0.4444444444444444,
              "#bd3786"
             ],
             [
              0.5555555555555556,
              "#d8576b"
             ],
             [
              0.6666666666666666,
              "#ed7953"
             ],
             [
              0.7777777777777778,
              "#fb9f3a"
             ],
             [
              0.8888888888888888,
              "#fdca26"
             ],
             [
              1,
              "#f0f921"
             ]
            ],
            "type": "histogram2d"
           }
          ],
          "histogram2dcontour": [
           {
            "colorbar": {
             "outlinewidth": 0,
             "ticks": ""
            },
            "colorscale": [
             [
              0,
              "#0d0887"
             ],
             [
              0.1111111111111111,
              "#46039f"
             ],
             [
              0.2222222222222222,
              "#7201a8"
             ],
             [
              0.3333333333333333,
              "#9c179e"
             ],
             [
              0.4444444444444444,
              "#bd3786"
             ],
             [
              0.5555555555555556,
              "#d8576b"
             ],
             [
              0.6666666666666666,
              "#ed7953"
             ],
             [
              0.7777777777777778,
              "#fb9f3a"
             ],
             [
              0.8888888888888888,
              "#fdca26"
             ],
             [
              1,
              "#f0f921"
             ]
            ],
            "type": "histogram2dcontour"
           }
          ],
          "mesh3d": [
           {
            "colorbar": {
             "outlinewidth": 0,
             "ticks": ""
            },
            "type": "mesh3d"
           }
          ],
          "parcoords": [
           {
            "line": {
             "colorbar": {
              "outlinewidth": 0,
              "ticks": ""
             }
            },
            "type": "parcoords"
           }
          ],
          "pie": [
           {
            "automargin": true,
            "type": "pie"
           }
          ],
          "scatter": [
           {
            "fillpattern": {
             "fillmode": "overlay",
             "size": 10,
             "solidity": 0.2
            },
            "type": "scatter"
           }
          ],
          "scatter3d": [
           {
            "line": {
             "colorbar": {
              "outlinewidth": 0,
              "ticks": ""
             }
            },
            "marker": {
             "colorbar": {
              "outlinewidth": 0,
              "ticks": ""
             }
            },
            "type": "scatter3d"
           }
          ],
          "scattercarpet": [
           {
            "marker": {
             "colorbar": {
              "outlinewidth": 0,
              "ticks": ""
             }
            },
            "type": "scattercarpet"
           }
          ],
          "scattergeo": [
           {
            "marker": {
             "colorbar": {
              "outlinewidth": 0,
              "ticks": ""
             }
            },
            "type": "scattergeo"
           }
          ],
          "scattergl": [
           {
            "marker": {
             "colorbar": {
              "outlinewidth": 0,
              "ticks": ""
             }
            },
            "type": "scattergl"
           }
          ],
          "scattermapbox": [
           {
            "marker": {
             "colorbar": {
              "outlinewidth": 0,
              "ticks": ""
             }
            },
            "type": "scattermapbox"
           }
          ],
          "scatterpolar": [
           {
            "marker": {
             "colorbar": {
              "outlinewidth": 0,
              "ticks": ""
             }
            },
            "type": "scatterpolar"
           }
          ],
          "scatterpolargl": [
           {
            "marker": {
             "colorbar": {
              "outlinewidth": 0,
              "ticks": ""
             }
            },
            "type": "scatterpolargl"
           }
          ],
          "scatterternary": [
           {
            "marker": {
             "colorbar": {
              "outlinewidth": 0,
              "ticks": ""
             }
            },
            "type": "scatterternary"
           }
          ],
          "surface": [
           {
            "colorbar": {
             "outlinewidth": 0,
             "ticks": ""
            },
            "colorscale": [
             [
              0,
              "#0d0887"
             ],
             [
              0.1111111111111111,
              "#46039f"
             ],
             [
              0.2222222222222222,
              "#7201a8"
             ],
             [
              0.3333333333333333,
              "#9c179e"
             ],
             [
              0.4444444444444444,
              "#bd3786"
             ],
             [
              0.5555555555555556,
              "#d8576b"
             ],
             [
              0.6666666666666666,
              "#ed7953"
             ],
             [
              0.7777777777777778,
              "#fb9f3a"
             ],
             [
              0.8888888888888888,
              "#fdca26"
             ],
             [
              1,
              "#f0f921"
             ]
            ],
            "type": "surface"
           }
          ],
          "table": [
           {
            "cells": {
             "fill": {
              "color": "#EBF0F8"
             },
             "line": {
              "color": "white"
             }
            },
            "header": {
             "fill": {
              "color": "#C8D4E3"
             },
             "line": {
              "color": "white"
             }
            },
            "type": "table"
           }
          ]
         },
         "layout": {
          "annotationdefaults": {
           "arrowcolor": "#2a3f5f",
           "arrowhead": 0,
           "arrowwidth": 1
          },
          "autotypenumbers": "strict",
          "coloraxis": {
           "colorbar": {
            "outlinewidth": 0,
            "ticks": ""
           }
          },
          "colorscale": {
           "diverging": [
            [
             0,
             "#8e0152"
            ],
            [
             0.1,
             "#c51b7d"
            ],
            [
             0.2,
             "#de77ae"
            ],
            [
             0.3,
             "#f1b6da"
            ],
            [
             0.4,
             "#fde0ef"
            ],
            [
             0.5,
             "#f7f7f7"
            ],
            [
             0.6,
             "#e6f5d0"
            ],
            [
             0.7,
             "#b8e186"
            ],
            [
             0.8,
             "#7fbc41"
            ],
            [
             0.9,
             "#4d9221"
            ],
            [
             1,
             "#276419"
            ]
           ],
           "sequential": [
            [
             0,
             "#0d0887"
            ],
            [
             0.1111111111111111,
             "#46039f"
            ],
            [
             0.2222222222222222,
             "#7201a8"
            ],
            [
             0.3333333333333333,
             "#9c179e"
            ],
            [
             0.4444444444444444,
             "#bd3786"
            ],
            [
             0.5555555555555556,
             "#d8576b"
            ],
            [
             0.6666666666666666,
             "#ed7953"
            ],
            [
             0.7777777777777778,
             "#fb9f3a"
            ],
            [
             0.8888888888888888,
             "#fdca26"
            ],
            [
             1,
             "#f0f921"
            ]
           ],
           "sequentialminus": [
            [
             0,
             "#0d0887"
            ],
            [
             0.1111111111111111,
             "#46039f"
            ],
            [
             0.2222222222222222,
             "#7201a8"
            ],
            [
             0.3333333333333333,
             "#9c179e"
            ],
            [
             0.4444444444444444,
             "#bd3786"
            ],
            [
             0.5555555555555556,
             "#d8576b"
            ],
            [
             0.6666666666666666,
             "#ed7953"
            ],
            [
             0.7777777777777778,
             "#fb9f3a"
            ],
            [
             0.8888888888888888,
             "#fdca26"
            ],
            [
             1,
             "#f0f921"
            ]
           ]
          },
          "colorway": [
           "#636efa",
           "#EF553B",
           "#00cc96",
           "#ab63fa",
           "#FFA15A",
           "#19d3f3",
           "#FF6692",
           "#B6E880",
           "#FF97FF",
           "#FECB52"
          ],
          "font": {
           "color": "#2a3f5f"
          },
          "geo": {
           "bgcolor": "white",
           "lakecolor": "white",
           "landcolor": "#E5ECF6",
           "showlakes": true,
           "showland": true,
           "subunitcolor": "white"
          },
          "hoverlabel": {
           "align": "left"
          },
          "hovermode": "closest",
          "mapbox": {
           "style": "light"
          },
          "paper_bgcolor": "white",
          "plot_bgcolor": "#E5ECF6",
          "polar": {
           "angularaxis": {
            "gridcolor": "white",
            "linecolor": "white",
            "ticks": ""
           },
           "bgcolor": "#E5ECF6",
           "radialaxis": {
            "gridcolor": "white",
            "linecolor": "white",
            "ticks": ""
           }
          },
          "scene": {
           "xaxis": {
            "backgroundcolor": "#E5ECF6",
            "gridcolor": "white",
            "gridwidth": 2,
            "linecolor": "white",
            "showbackground": true,
            "ticks": "",
            "zerolinecolor": "white"
           },
           "yaxis": {
            "backgroundcolor": "#E5ECF6",
            "gridcolor": "white",
            "gridwidth": 2,
            "linecolor": "white",
            "showbackground": true,
            "ticks": "",
            "zerolinecolor": "white"
           },
           "zaxis": {
            "backgroundcolor": "#E5ECF6",
            "gridcolor": "white",
            "gridwidth": 2,
            "linecolor": "white",
            "showbackground": true,
            "ticks": "",
            "zerolinecolor": "white"
           }
          },
          "shapedefaults": {
           "line": {
            "color": "#2a3f5f"
           }
          },
          "ternary": {
           "aaxis": {
            "gridcolor": "white",
            "linecolor": "white",
            "ticks": ""
           },
           "baxis": {
            "gridcolor": "white",
            "linecolor": "white",
            "ticks": ""
           },
           "bgcolor": "#E5ECF6",
           "caxis": {
            "gridcolor": "white",
            "linecolor": "white",
            "ticks": ""
           }
          },
          "title": {
           "x": 0.05
          },
          "xaxis": {
           "automargin": true,
           "gridcolor": "white",
           "linecolor": "white",
           "ticks": "",
           "title": {
            "standoff": 15
           },
           "zerolinecolor": "white",
           "zerolinewidth": 2
          },
          "yaxis": {
           "automargin": true,
           "gridcolor": "white",
           "linecolor": "white",
           "ticks": "",
           "title": {
            "standoff": 15
           },
           "zerolinecolor": "white",
           "zerolinewidth": 2
          }
         }
        }
       }
      },
      "text/html": [
       "<div>                            <div id=\"bac34158-88eb-49aa-95ee-0773be35722a\" class=\"plotly-graph-div\" style=\"height:525px; width:100%;\"></div>            <script type=\"text/javascript\">                require([\"plotly\"], function(Plotly) {                    window.PLOTLYENV=window.PLOTLYENV || {};                                    if (document.getElementById(\"bac34158-88eb-49aa-95ee-0773be35722a\")) {                    Plotly.newPlot(                        \"bac34158-88eb-49aa-95ee-0773be35722a\",                        [{\"domain\":{\"x\":[0.0,1.0],\"y\":[0.0,1.0]},\"hovertemplate\":\"Topic_Label=%{label}<br>counts=%{value}<extra></extra>\",\"labels\":[\"Influence\",\"Resource Sharing\",\"Perspectives\",\"Critical Probing\",\"Community Building\"],\"legendgroup\":\"\",\"name\":\"\",\"showlegend\":true,\"values\":[5,15,9,4,12],\"type\":\"pie\",\"textinfo\":\"percent+label\",\"textposition\":\"inside\"}],                        {\"template\":{\"data\":{\"histogram2dcontour\":[{\"type\":\"histogram2dcontour\",\"colorbar\":{\"outlinewidth\":0,\"ticks\":\"\"},\"colorscale\":[[0.0,\"#0d0887\"],[0.1111111111111111,\"#46039f\"],[0.2222222222222222,\"#7201a8\"],[0.3333333333333333,\"#9c179e\"],[0.4444444444444444,\"#bd3786\"],[0.5555555555555556,\"#d8576b\"],[0.6666666666666666,\"#ed7953\"],[0.7777777777777778,\"#fb9f3a\"],[0.8888888888888888,\"#fdca26\"],[1.0,\"#f0f921\"]]}],\"choropleth\":[{\"type\":\"choropleth\",\"colorbar\":{\"outlinewidth\":0,\"ticks\":\"\"}}],\"histogram2d\":[{\"type\":\"histogram2d\",\"colorbar\":{\"outlinewidth\":0,\"ticks\":\"\"},\"colorscale\":[[0.0,\"#0d0887\"],[0.1111111111111111,\"#46039f\"],[0.2222222222222222,\"#7201a8\"],[0.3333333333333333,\"#9c179e\"],[0.4444444444444444,\"#bd3786\"],[0.5555555555555556,\"#d8576b\"],[0.6666666666666666,\"#ed7953\"],[0.7777777777777778,\"#fb9f3a\"],[0.8888888888888888,\"#fdca26\"],[1.0,\"#f0f921\"]]}],\"heatmap\":[{\"type\":\"heatmap\",\"colorbar\":{\"outlinewidth\":0,\"ticks\":\"\"},\"colorscale\":[[0.0,\"#0d0887\"],[0.1111111111111111,\"#46039f\"],[0.2222222222222222,\"#7201a8\"],[0.3333333333333333,\"#9c179e\"],[0.4444444444444444,\"#bd3786\"],[0.5555555555555556,\"#d8576b\"],[0.6666666666666666,\"#ed7953\"],[0.7777777777777778,\"#fb9f3a\"],[0.8888888888888888,\"#fdca26\"],[1.0,\"#f0f921\"]]}],\"heatmapgl\":[{\"type\":\"heatmapgl\",\"colorbar\":{\"outlinewidth\":0,\"ticks\":\"\"},\"colorscale\":[[0.0,\"#0d0887\"],[0.1111111111111111,\"#46039f\"],[0.2222222222222222,\"#7201a8\"],[0.3333333333333333,\"#9c179e\"],[0.4444444444444444,\"#bd3786\"],[0.5555555555555556,\"#d8576b\"],[0.6666666666666666,\"#ed7953\"],[0.7777777777777778,\"#fb9f3a\"],[0.8888888888888888,\"#fdca26\"],[1.0,\"#f0f921\"]]}],\"contourcarpet\":[{\"type\":\"contourcarpet\",\"colorbar\":{\"outlinewidth\":0,\"ticks\":\"\"}}],\"contour\":[{\"type\":\"contour\",\"colorbar\":{\"outlinewidth\":0,\"ticks\":\"\"},\"colorscale\":[[0.0,\"#0d0887\"],[0.1111111111111111,\"#46039f\"],[0.2222222222222222,\"#7201a8\"],[0.3333333333333333,\"#9c179e\"],[0.4444444444444444,\"#bd3786\"],[0.5555555555555556,\"#d8576b\"],[0.6666666666666666,\"#ed7953\"],[0.7777777777777778,\"#fb9f3a\"],[0.8888888888888888,\"#fdca26\"],[1.0,\"#f0f921\"]]}],\"surface\":[{\"type\":\"surface\",\"colorbar\":{\"outlinewidth\":0,\"ticks\":\"\"},\"colorscale\":[[0.0,\"#0d0887\"],[0.1111111111111111,\"#46039f\"],[0.2222222222222222,\"#7201a8\"],[0.3333333333333333,\"#9c179e\"],[0.4444444444444444,\"#bd3786\"],[0.5555555555555556,\"#d8576b\"],[0.6666666666666666,\"#ed7953\"],[0.7777777777777778,\"#fb9f3a\"],[0.8888888888888888,\"#fdca26\"],[1.0,\"#f0f921\"]]}],\"mesh3d\":[{\"type\":\"mesh3d\",\"colorbar\":{\"outlinewidth\":0,\"ticks\":\"\"}}],\"scatter\":[{\"fillpattern\":{\"fillmode\":\"overlay\",\"size\":10,\"solidity\":0.2},\"type\":\"scatter\"}],\"parcoords\":[{\"type\":\"parcoords\",\"line\":{\"colorbar\":{\"outlinewidth\":0,\"ticks\":\"\"}}}],\"scatterpolargl\":[{\"type\":\"scatterpolargl\",\"marker\":{\"colorbar\":{\"outlinewidth\":0,\"ticks\":\"\"}}}],\"bar\":[{\"error_x\":{\"color\":\"#2a3f5f\"},\"error_y\":{\"color\":\"#2a3f5f\"},\"marker\":{\"line\":{\"color\":\"#E5ECF6\",\"width\":0.5},\"pattern\":{\"fillmode\":\"overlay\",\"size\":10,\"solidity\":0.2}},\"type\":\"bar\"}],\"scattergeo\":[{\"type\":\"scattergeo\",\"marker\":{\"colorbar\":{\"outlinewidth\":0,\"ticks\":\"\"}}}],\"scatterpolar\":[{\"type\":\"scatterpolar\",\"marker\":{\"colorbar\":{\"outlinewidth\":0,\"ticks\":\"\"}}}],\"histogram\":[{\"marker\":{\"pattern\":{\"fillmode\":\"overlay\",\"size\":10,\"solidity\":0.2}},\"type\":\"histogram\"}],\"scattergl\":[{\"type\":\"scattergl\",\"marker\":{\"colorbar\":{\"outlinewidth\":0,\"ticks\":\"\"}}}],\"scatter3d\":[{\"type\":\"scatter3d\",\"line\":{\"colorbar\":{\"outlinewidth\":0,\"ticks\":\"\"}},\"marker\":{\"colorbar\":{\"outlinewidth\":0,\"ticks\":\"\"}}}],\"scattermapbox\":[{\"type\":\"scattermapbox\",\"marker\":{\"colorbar\":{\"outlinewidth\":0,\"ticks\":\"\"}}}],\"scatterternary\":[{\"type\":\"scatterternary\",\"marker\":{\"colorbar\":{\"outlinewidth\":0,\"ticks\":\"\"}}}],\"scattercarpet\":[{\"type\":\"scattercarpet\",\"marker\":{\"colorbar\":{\"outlinewidth\":0,\"ticks\":\"\"}}}],\"carpet\":[{\"aaxis\":{\"endlinecolor\":\"#2a3f5f\",\"gridcolor\":\"white\",\"linecolor\":\"white\",\"minorgridcolor\":\"white\",\"startlinecolor\":\"#2a3f5f\"},\"baxis\":{\"endlinecolor\":\"#2a3f5f\",\"gridcolor\":\"white\",\"linecolor\":\"white\",\"minorgridcolor\":\"white\",\"startlinecolor\":\"#2a3f5f\"},\"type\":\"carpet\"}],\"table\":[{\"cells\":{\"fill\":{\"color\":\"#EBF0F8\"},\"line\":{\"color\":\"white\"}},\"header\":{\"fill\":{\"color\":\"#C8D4E3\"},\"line\":{\"color\":\"white\"}},\"type\":\"table\"}],\"barpolar\":[{\"marker\":{\"line\":{\"color\":\"#E5ECF6\",\"width\":0.5},\"pattern\":{\"fillmode\":\"overlay\",\"size\":10,\"solidity\":0.2}},\"type\":\"barpolar\"}],\"pie\":[{\"automargin\":true,\"type\":\"pie\"}]},\"layout\":{\"autotypenumbers\":\"strict\",\"colorway\":[\"#636efa\",\"#EF553B\",\"#00cc96\",\"#ab63fa\",\"#FFA15A\",\"#19d3f3\",\"#FF6692\",\"#B6E880\",\"#FF97FF\",\"#FECB52\"],\"font\":{\"color\":\"#2a3f5f\"},\"hovermode\":\"closest\",\"hoverlabel\":{\"align\":\"left\"},\"paper_bgcolor\":\"white\",\"plot_bgcolor\":\"#E5ECF6\",\"polar\":{\"bgcolor\":\"#E5ECF6\",\"angularaxis\":{\"gridcolor\":\"white\",\"linecolor\":\"white\",\"ticks\":\"\"},\"radialaxis\":{\"gridcolor\":\"white\",\"linecolor\":\"white\",\"ticks\":\"\"}},\"ternary\":{\"bgcolor\":\"#E5ECF6\",\"aaxis\":{\"gridcolor\":\"white\",\"linecolor\":\"white\",\"ticks\":\"\"},\"baxis\":{\"gridcolor\":\"white\",\"linecolor\":\"white\",\"ticks\":\"\"},\"caxis\":{\"gridcolor\":\"white\",\"linecolor\":\"white\",\"ticks\":\"\"}},\"coloraxis\":{\"colorbar\":{\"outlinewidth\":0,\"ticks\":\"\"}},\"colorscale\":{\"sequential\":[[0.0,\"#0d0887\"],[0.1111111111111111,\"#46039f\"],[0.2222222222222222,\"#7201a8\"],[0.3333333333333333,\"#9c179e\"],[0.4444444444444444,\"#bd3786\"],[0.5555555555555556,\"#d8576b\"],[0.6666666666666666,\"#ed7953\"],[0.7777777777777778,\"#fb9f3a\"],[0.8888888888888888,\"#fdca26\"],[1.0,\"#f0f921\"]],\"sequentialminus\":[[0.0,\"#0d0887\"],[0.1111111111111111,\"#46039f\"],[0.2222222222222222,\"#7201a8\"],[0.3333333333333333,\"#9c179e\"],[0.4444444444444444,\"#bd3786\"],[0.5555555555555556,\"#d8576b\"],[0.6666666666666666,\"#ed7953\"],[0.7777777777777778,\"#fb9f3a\"],[0.8888888888888888,\"#fdca26\"],[1.0,\"#f0f921\"]],\"diverging\":[[0,\"#8e0152\"],[0.1,\"#c51b7d\"],[0.2,\"#de77ae\"],[0.3,\"#f1b6da\"],[0.4,\"#fde0ef\"],[0.5,\"#f7f7f7\"],[0.6,\"#e6f5d0\"],[0.7,\"#b8e186\"],[0.8,\"#7fbc41\"],[0.9,\"#4d9221\"],[1,\"#276419\"]]},\"xaxis\":{\"gridcolor\":\"white\",\"linecolor\":\"white\",\"ticks\":\"\",\"title\":{\"standoff\":15},\"zerolinecolor\":\"white\",\"automargin\":true,\"zerolinewidth\":2},\"yaxis\":{\"gridcolor\":\"white\",\"linecolor\":\"white\",\"ticks\":\"\",\"title\":{\"standoff\":15},\"zerolinecolor\":\"white\",\"automargin\":true,\"zerolinewidth\":2},\"scene\":{\"xaxis\":{\"backgroundcolor\":\"#E5ECF6\",\"gridcolor\":\"white\",\"linecolor\":\"white\",\"showbackground\":true,\"ticks\":\"\",\"zerolinecolor\":\"white\",\"gridwidth\":2},\"yaxis\":{\"backgroundcolor\":\"#E5ECF6\",\"gridcolor\":\"white\",\"linecolor\":\"white\",\"showbackground\":true,\"ticks\":\"\",\"zerolinecolor\":\"white\",\"gridwidth\":2},\"zaxis\":{\"backgroundcolor\":\"#E5ECF6\",\"gridcolor\":\"white\",\"linecolor\":\"white\",\"showbackground\":true,\"ticks\":\"\",\"zerolinecolor\":\"white\",\"gridwidth\":2}},\"shapedefaults\":{\"line\":{\"color\":\"#2a3f5f\"}},\"annotationdefaults\":{\"arrowcolor\":\"#2a3f5f\",\"arrowhead\":0,\"arrowwidth\":1},\"geo\":{\"bgcolor\":\"white\",\"landcolor\":\"#E5ECF6\",\"subunitcolor\":\"white\",\"showland\":true,\"showlakes\":true,\"lakecolor\":\"white\"},\"title\":{\"x\":0.05},\"mapbox\":{\"style\":\"light\"}}},\"legend\":{\"tracegroupgap\":0,\"title\":{\"text\":\"<b>Content themes - PageRank<b>\"},\"yanchor\":\"top\",\"y\":0.9,\"xanchor\":\"left\",\"x\":0.75},\"margin\":{\"t\":60}},                        {\"responsive\": true}                    ).then(function(){\n",
       "                            \n",
       "var gd = document.getElementById('bac34158-88eb-49aa-95ee-0773be35722a');\n",
       "var x = new MutationObserver(function (mutations, observer) {{\n",
       "        var display = window.getComputedStyle(gd).display;\n",
       "        if (!display || display === 'none') {{\n",
       "            console.log([gd, 'removed!']);\n",
       "            Plotly.purge(gd);\n",
       "            observer.disconnect();\n",
       "        }}\n",
       "}});\n",
       "\n",
       "// Listen for the removal of the full notebook cells\n",
       "var notebookContainer = gd.closest('#notebook-container');\n",
       "if (notebookContainer) {{\n",
       "    x.observe(notebookContainer, {childList: true});\n",
       "}}\n",
       "\n",
       "// Listen for the clearing of the current output cell\n",
       "var outputEl = gd.closest('.output');\n",
       "if (outputEl) {{\n",
       "    x.observe(outputEl, {childList: true});\n",
       "}}\n",
       "\n",
       "                        })                };                });            </script>        </div>"
      ]
     },
     "metadata": {},
     "output_type": "display_data"
    }
   ],
   "source": [
    "import plotly.express as px\n",
    "fig = px.pie(final, values=\"counts\", names=\"Topic_Label\")\n",
    "fig.update_traces(textposition='inside', textinfo='percent+label')\n",
    "fig.update_layout(legend=dict(title = '<b>Content themes - PageRank<b>', yanchor=\"top\", y=0.9, xanchor=\"left\", x=0.75))\n",
    "fig.show()"
   ]
  }
 ],
 "metadata": {
  "kernelspec": {
   "display_name": "Python 3 (ipykernel)",
   "language": "python",
   "name": "python3"
  },
  "language_info": {
   "codemirror_mode": {
    "name": "ipython",
    "version": 3
   },
   "file_extension": ".py",
   "mimetype": "text/x-python",
   "name": "python",
   "nbconvert_exporter": "python",
   "pygments_lexer": "ipython3",
   "version": "3.9.13"
  }
 },
 "nbformat": 4,
 "nbformat_minor": 5
}
